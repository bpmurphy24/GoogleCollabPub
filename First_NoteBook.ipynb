{
  "nbformat": 4,
  "nbformat_minor": 0,
  "metadata": {
    "colab": {
      "name": "First NoteBook.ipynb",
      "provenance": [],
      "authorship_tag": "ABX9TyN4eazKjRRoFO7RipfneRER",
      "include_colab_link": true
    },
    "kernelspec": {
      "name": "python3",
      "display_name": "Python 3"
    }
  },
  "cells": [
    {
      "cell_type": "markdown",
      "metadata": {
        "id": "view-in-github",
        "colab_type": "text"
      },
      "source": [
        "<a href=\"https://colab.research.google.com/github/bpmurphy24/GoogleCollabPub/blob/main/First_NoteBook.ipynb\" target=\"_parent\"><img src=\"https://colab.research.google.com/assets/colab-badge.svg\" alt=\"Open In Colab\"/></a>"
      ]
    },
    {
      "cell_type": "code",
      "metadata": {
        "colab": {
          "base_uri": "https://localhost:8080/"
        },
        "id": "qkoC5ZPyxaKX",
        "outputId": "685b5d28-5992-4478-a873-cec6f6a98620"
      },
      "source": [
        "print(\"Hi World\")"
      ],
      "execution_count": null,
      "outputs": [
        {
          "output_type": "stream",
          "text": [
            "Hi World\n"
          ],
          "name": "stdout"
        }
      ]
    },
    {
      "cell_type": "code",
      "metadata": {
        "colab": {
          "base_uri": "https://localhost:8080/",
          "height": 52
        },
        "id": "WzsAJOQ6xrST",
        "outputId": "4efd7f29-3f09-4903-a817-7ed0047b7db4"
      },
      "source": [
        "x = \"corgi\"\r\n",
        "y = \"kitty\"\r\n",
        "z = \"birdie\"\r\n",
        "print(format(x)+\" \"+format(y))\r\n",
        "\r\n",
        "\r\n",
        "myPets = [x,y,z]\r\n",
        "myPets[0]\r\n"
      ],
      "execution_count": null,
      "outputs": [
        {
          "output_type": "stream",
          "text": [
            "corgi kitty\n"
          ],
          "name": "stdout"
        },
        {
          "output_type": "execute_result",
          "data": {
            "application/vnd.google.colaboratory.intrinsic+json": {
              "type": "string"
            },
            "text/plain": [
              "'corgi'"
            ]
          },
          "metadata": {
            "tags": []
          },
          "execution_count": 5
        }
      ]
    },
    {
      "cell_type": "code",
      "metadata": {
        "id": "ddcuECn0yMEK"
      },
      "source": [
        "import pandas as pd\r\n",
        "import seaborn as sbn\r\n",
        "\r\n"
      ],
      "execution_count": null,
      "outputs": []
    }
  ]
}